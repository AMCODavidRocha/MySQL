{
 "cells": [
  {
   "cell_type": "markdown",
   "metadata": {},
   "source": [
    "3. Perform Queries Using the Command Line\n",
    "    * Task: Run at least five different queries, including:\n",
    "\n",
    "        + SELECT with JOIN between rental and customer.\n",
    "\n",
    "        + GROUP BY and HAVING to find the number of rentals per store.\n",
    "\n",
    "        + ORDER BY to sort movies by rental duration."
   ]
  },
  {
   "cell_type": "markdown",
   "metadata": {},
   "source": [
    "* Seleccionamos todos los datos de rentas y clientes donde coincidadn los \"customer_id\""
   ]
  },
  {
   "cell_type": "code",
   "execution_count": null,
   "metadata": {},
   "outputs": [],
   "source": [
    "SELECT *\n",
    "FROM sakila.rental\n",
    "JOIN sakila.customer\n",
    "ON sakila.rental.customer_id = sakila.customer.customer_id"
   ]
  },
  {
   "cell_type": "markdown",
   "metadata": {},
   "source": [
    "* Seleccionamos con un join todos los datos de la tabla \"rental\" y \"customer\""
   ]
  },
  {
   "cell_type": "code",
   "execution_count": null,
   "metadata": {},
   "outputs": [],
   "source": [
    "# Version 1: muestra solo la columna de tiendas agrupadas por sus diferentes tiendas\n",
    "SELECT count(store_id)\n",
    "FROM sakila.rental\n",
    "JOIN sakila.customer\n",
    "ON sakila.rental.customer_id = sakila.customer.customer_id\n",
    "GROUP BY store_id;\n",
    "\n",
    "# Version 1.2 Se utlizan los alias para enteder mejor la logica de uso y se agrega la columna de tiendas\n",
    "SELECT Clientes.store_id AS tiendas, COUNT(Clientes.store_id) AS no_rentas\n",
    "FROM sakila.rental AS Rentas\n",
    "JOIN sakila.customer AS Clientes\n",
    "ON Rentas.customer_id = Clientes.customer_id\n",
    "GROUP BY Clientes.store_id;\n",
    "\n",
    "# Version 2+: Se utiliza una logica mejor para no incluir posibles rentas duplicadas mas left join\n",
    "SELECT customer.store_id, COUNT(DISTINCT rental.rental_id) \n",
    "FROM sakila.rental AS rental\n",
    "LEFT JOIN sakila.customer AS customer ON rental.customer_id = customer.customer_id\n",
    "GROUP BY customer.store_id\n"
   ]
  },
  {
   "cell_type": "markdown",
   "metadata": {},
   "source": [
    "* Seleccionamos dos columnas de la tabla \"film\" y ordenamos por la duracion de renta"
   ]
  },
  {
   "cell_type": "code",
   "execution_count": null,
   "metadata": {},
   "outputs": [],
   "source": [
    "SELECT Peliculas.title, Peliculas.rental_duration\n",
    "FROM sakila.film AS Peliculas\n",
    "ORDER BY Peliculas.rental_duration ASC"
   ]
  }
 ],
 "metadata": {
  "kernelspec": {
   "display_name": ".venv",
   "language": "python",
   "name": "python3"
  },
  "language_info": {
   "codemirror_mode": {
    "name": "ipython",
    "version": 3
   },
   "file_extension": ".py",
   "mimetype": "text/x-python",
   "name": "python",
   "nbconvert_exporter": "python",
   "pygments_lexer": "ipython3",
   "version": "3.12.5"
  }
 },
 "nbformat": 4,
 "nbformat_minor": 2
}
